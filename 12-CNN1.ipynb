{
 "cells": [
  {
   "cell_type": "code",
   "execution_count": 58,
   "id": "c70f5233",
   "metadata": {},
   "outputs": [],
   "source": [
    "import numpy as np\n",
    "import pandas as pd\n",
    "import matplotlib.pyplot as plt\n",
    "import seaborn as sns\n",
    "\n",
    "import tensorflow as tf\n",
    "from tensorflow.keras.models import Sequential, load_model\n",
    "from tensorflow.keras.layers import Dense, Flatten\n",
    "from tensorflow.keras.optimizers import SGD, Adam, RMSprop\n",
    "\n",
    "from sklearn.model_selection import train_test_split\n",
    "from sklearn.preprocessing import StandardScaler, MinMaxScaler\n",
    "from sklearn.metrics import accuracy_score\n",
    "from tensorflow.keras.layers import Conv2D, MaxPool2D\n",
    "\n",
    "from sklearn.preprocessing import LabelEncoder\n",
    "\n",
    "from tensorflow.keras.layers import Input\n",
    "from tensorflow.keras.models import Model\n",
    "\n",
    "from random import shuffle\n",
    "from tensorflow.keras.datasets import mnist\n",
    "import tensorflow.keras.utils as utils"
   ]
  },
  {
   "cell_type": "markdown",
   "id": "b5402893",
   "metadata": {},
   "source": [
    "## Convolution 결과 이미지 확인"
   ]
  },
  {
   "cell_type": "markdown",
   "id": "f840fdbb",
   "metadata": {},
   "source": [
    "### 샘플 이미지 준비"
   ]
  },
  {
   "cell_type": "code",
   "execution_count": 35,
   "id": "76e4c4ba",
   "metadata": {},
   "outputs": [],
   "source": [
    "from tensorflow.keras.datasets import mnist\n",
    "(X_train, y_train), (X_test, y_test) = mnist.load_data()"
   ]
  },
  {
   "cell_type": "code",
   "execution_count": 36,
   "id": "c5021091",
   "metadata": {},
   "outputs": [
    {
     "data": {
      "text/plain": [
       "<matplotlib.image.AxesImage at 0x1c0de134ec8>"
      ]
     },
     "execution_count": 36,
     "metadata": {},
     "output_type": "execute_result"
    },
    {
     "data": {
      "image/png": "[encoded data removed]",
      "text/plain": [
       "<Figure size 640x480 with 1 Axes>"
      ]
     },
     "metadata": {},
     "output_type": "display_data"
    }
   ],
   "source": [
    "plt.imshow(X_train[2], cmap=\"gray\")"
   ]
  },
  {
   "cell_type": "markdown",
   "id": "22968387",
   "metadata": {},
   "source": [
    "## 필터 준비"
   ]
  },
  {
   "cell_type": "code",
   "execution_count": 37,
   "id": "513e085c",
   "metadata": {},
   "outputs": [],
   "source": [
    "horizontal_filter = np.array([[1., 1., 1.], [0., 0., 0.], [-1., -1., -1.]])\n",
    "vertical_filter = np.array([[1., 0., -1.], [1., 0., -1.], [1., 0., -1.]])\n",
    "sharpen_filter = np.array([[0., -1., 0.], [-1., 5., -1.], [0., -1., 0.]])\n",
    "blur_filter = np.array([[0.11, 0.11, 0.11], [0.11, 0.11, 0.11], [0.11, 0.11, 0.11]])\n",
    "edge_1_filter = np.array([[1., 0., -1.], [0., 0., 0.], [-1., 0., 1.]])\n",
    "edge_2_filter = np.array([[0., -1., 0.], [-1., 4., -1.], [0., -1., 0.]])\n",
    "edge_3_filter = np.array([[-1., -1., -1.], [-1., 8., -1.], [-1., -1., -1.]])"
   ]
  },
  {
   "cell_type": "markdown",
   "id": "d8906ba1",
   "metadata": {},
   "source": [
    "## Concolution 공식을 함수화"
   ]
  },
  {
   "cell_type": "code",
   "execution_count": 38,
   "id": "1dc5f678",
   "metadata": {},
   "outputs": [],
   "source": [
    "def conv2d_simple(input_image, filter, filter_size):\n",
    "    original_image_size = input_image.shape[0]\n",
    "    conv_output_size = int(((original_image_size - filter_size)/1 + 1))\n",
    "    print(conv_output_size)\n",
    "    \n",
    "    filter_image = np.zeros((conv_output_size, conv_output_size))\n",
    "    \n",
    "    for i in range(conv_output_size):\n",
    "        for j in range(conv_output_size):\n",
    "            conv_result = input_image[i:(i+filter_size), j:(j+filter_size)] * filter\n",
    "            conv_sum = np.sum(conv_result)\n",
    "            \n",
    "            if(conv_sum > 255):\n",
    "                conv_sum = 255\n",
    "            \n",
    "            filter_image[i, j] = conv_sum\n",
    "            \n",
    "    return filter_image"
   ]
  },
  {
   "cell_type": "code",
   "execution_count": 39,
   "id": "a441e869",
   "metadata": {},
   "outputs": [
    {
     "name": "stdout",
     "output_type": "stream",
     "text": [
      "26\n"
     ]
    }
   ],
   "source": [
    "vertical_filter_image = conv2d_simple(X_train[2], vertical_filter,3)"
   ]
  },
  {
   "cell_type": "code",
   "execution_count": 40,
   "id": "95418bec",
   "metadata": {},
   "outputs": [
    {
     "name": "stdout",
     "output_type": "stream",
     "text": [
      "(26, 26)\n"
     ]
    }
   ],
   "source": [
    "print(vertical_filter_image.shape)"
   ]
  },
  {
   "cell_type": "code",
   "execution_count": 41,
   "id": "142bfe05",
   "metadata": {},
   "outputs": [
    {
     "data": {
      "text/plain": [
       "<matplotlib.image.AxesImage at 0x1c0db9e7b88>"
      ]
     },
     "execution_count": 41,
     "metadata": {},
     "output_type": "execute_result"
    },
    {
     "data": {
      "image/png": "[encoded data removed]",
      "text/plain": [
       "<Figure size 600x400 with 2 Axes>"
      ]
     },
     "metadata": {},
     "output_type": "display_data"
    }
   ],
   "source": [
    "plt.figure(figsize=(6,4))\n",
    "\n",
    "plt.subplot(1,2,1)\n",
    "plt.imshow(X_train[2], cmap=\"gray\")\n",
    "\n",
    "plt.subplot(1,2,2)\n",
    "plt.imshow(vertical_filter_image, cmap=\"gray\")"
   ]
  },
  {
   "cell_type": "code",
   "execution_count": 42,
   "id": "2abe58be",
   "metadata": {},
   "outputs": [
    {
     "ename": "NameError",
     "evalue": "name 'horizontal_filter_image' is not defined",
     "output_type": "error",
     "traceback": [
      "\u001b[1;31m---------------------------------------------------------------------------\u001b[0m",
      "\u001b[1;31mNameError\u001b[0m                                 Traceback (most recent call last)",
      "\u001b[1;32mC:\\Temp\\ipykernel_14520\\3444348324.py\u001b[0m in \u001b[0;36m<module>\u001b[1;34m\u001b[0m\n\u001b[0;32m      2\u001b[0m \u001b[1;33m\u001b[0m\u001b[0m\n\u001b[0;32m      3\u001b[0m \u001b[0mplt\u001b[0m\u001b[1;33m.\u001b[0m\u001b[0msubplot\u001b[0m\u001b[1;33m(\u001b[0m\u001b[1;36m1\u001b[0m\u001b[1;33m,\u001b[0m\u001b[1;36m2\u001b[0m\u001b[1;33m,\u001b[0m\u001b[1;36m1\u001b[0m\u001b[1;33m)\u001b[0m\u001b[1;33m\u001b[0m\u001b[1;33m\u001b[0m\u001b[0m\n\u001b[1;32m----> 4\u001b[1;33m \u001b[0mplt\u001b[0m\u001b[1;33m.\u001b[0m\u001b[0mimshow\u001b[0m\u001b[1;33m(\u001b[0m\u001b[0mhorizontal_filter_image\u001b[0m\u001b[1;33m,\u001b[0m \u001b[0mcmap\u001b[0m\u001b[1;33m=\u001b[0m\u001b[1;34m\"gray\"\u001b[0m\u001b[1;33m)\u001b[0m\u001b[1;33m\u001b[0m\u001b[1;33m\u001b[0m\u001b[0m\n\u001b[0m\u001b[0;32m      5\u001b[0m \u001b[1;33m\u001b[0m\u001b[0m\n\u001b[0;32m      6\u001b[0m \u001b[0mplt\u001b[0m\u001b[1;33m.\u001b[0m\u001b[0msubplot\u001b[0m\u001b[1;33m(\u001b[0m\u001b[1;36m1\u001b[0m\u001b[1;33m,\u001b[0m\u001b[1;36m2\u001b[0m\u001b[1;33m,\u001b[0m\u001b[1;36m2\u001b[0m\u001b[1;33m)\u001b[0m\u001b[1;33m\u001b[0m\u001b[1;33m\u001b[0m\u001b[0m\n",
      "\u001b[1;31mNameError\u001b[0m: name 'horizontal_filter_image' is not defined"
     ]
    },
    {
     "data": {
      "image/png": "[encoded data removed]",
      "text/plain": [
       "<Figure size 600x400 with 1 Axes>"
      ]
     },
     "metadata": {},
     "output_type": "display_data"
    }
   ],
   "source": [
    "plt.figure(figsize=(6,4))\n",
    "\n",
    "plt.subplot(1,2,1)\n",
    "plt.imshow(horizontal_filter_image, cmap=\"gray\")\n",
    "\n",
    "plt.subplot(1,2,2)\n",
    "plt.imshow(sharpen_filter_image, cmap=\"gray\")"
   ]
  },
  {
   "cell_type": "markdown",
   "id": "2546fe22",
   "metadata": {},
   "source": [
    "## Max Pooling 을 함수화"
   ]
  },
  {
   "cell_type": "code",
   "execution_count": null,
   "id": "17a4dbd7",
   "metadata": {},
   "outputs": [],
   "source": [
    "def maxpooling2d_simple(input_image):\n",
    "    image_x = input_image.shape[0]\n",
    "    image_y = input_image.shape[1]\n",
    "    \n",
    "    new_image_x = int(image_x / 2)\n",
    "    new_image_y = int(image_y / 2)\n",
    "    \n",
    "    max_pool_image = np.zeros((new_image_x, new_image_y))\n",
    "    \n",
    "    for i in range(0, image_x, 2):\n",
    "        for y in range(0, image_y, 2):\n",
    "            max_pool_image[int(x/2), int(y/2)]=np.max \n",
    "                np.max(input_image[x:])"
   ]
  },
  {
   "cell_type": "code",
   "execution_count": null,
   "id": "1f64664c",
   "metadata": {},
   "outputs": [],
   "source": [
    "vertical_filter_image = conv2d_simple(X_train[2], vertical_filter, 3)\n",
    "print(vertical_filter_image.shape)\n",
    "\n",
    "maxpooling2d_simple(vertical_filter_image)"
   ]
  },
  {
   "cell_type": "markdown",
   "id": "38b21a0f",
   "metadata": {},
   "source": [
    "## 2 . Simple CNN\n",
    "\n",
    "- mnist"
   ]
  },
  {
   "cell_type": "code",
   "execution_count": 43,
   "id": "0fdcf0eb",
   "metadata": {},
   "outputs": [],
   "source": [
    "from tensorflow.keras.datasets import mnist\n",
    "\n",
    "(X_train, y_train), (X_test, y_test) = mnist.load_data()\n",
    "\n",
    "X_train = X_train/255\n",
    "X_test = X_test/255"
   ]
  },
  {
   "cell_type": "code",
   "execution_count": 44,
   "id": "30e57d4c",
   "metadata": {},
   "outputs": [
    {
     "name": "stdout",
     "output_type": "stream",
     "text": [
      "(60000, 28, 28) (10000, 28, 28)\n"
     ]
    }
   ],
   "source": [
    "print(X_train.shape, X_test.shape)"
   ]
  },
  {
   "cell_type": "code",
   "execution_count": 47,
   "id": "a4cdbf87",
   "metadata": {},
   "outputs": [
    {
     "ename": "TypeError",
     "evalue": "__init__() missing 2 required positional arguments: 'filters' and 'kernel_size'",
     "output_type": "error",
     "traceback": [
      "\u001b[1;31m---------------------------------------------------------------------------\u001b[0m",
      "\u001b[1;31mTypeError\u001b[0m                                 Traceback (most recent call last)",
      "\u001b[1;32mC:\\Temp\\ipykernel_14520\\2145237870.py\u001b[0m in \u001b[0;36m<module>\u001b[1;34m\u001b[0m\n\u001b[0;32m      3\u001b[0m model.add(Conv2D(filter=32, kernal_size=3, strides=(1,1),\n\u001b[0;32m      4\u001b[0m                 \u001b[0minput_shape\u001b[0m\u001b[1;33m=\u001b[0m\u001b[1;33m(\u001b[0m\u001b[1;36m28\u001b[0m\u001b[1;33m,\u001b[0m \u001b[1;36m28\u001b[0m\u001b[1;33m,\u001b[0m \u001b[1;36m1\u001b[0m\u001b[1;33m)\u001b[0m\u001b[1;33m,\u001b[0m \u001b[0mpadding\u001b[0m\u001b[1;33m=\u001b[0m\u001b[1;34m\"VALID\"\u001b[0m\u001b[1;33m,\u001b[0m\u001b[1;33m\u001b[0m\u001b[1;33m\u001b[0m\u001b[0m\n\u001b[1;32m----> 5\u001b[1;33m                 activation=\"relu\"))\n\u001b[0m\u001b[0;32m      6\u001b[0m \u001b[0mmodel\u001b[0m\u001b[1;33m.\u001b[0m\u001b[0madd\u001b[0m\u001b[1;33m(\u001b[0m\u001b[0mMaxPool2D\u001b[0m\u001b[1;33m(\u001b[0m\u001b[0mpool_size\u001b[0m\u001b[1;33m=\u001b[0m\u001b[1;33m(\u001b[0m\u001b[1;36m2\u001b[0m\u001b[1;33m,\u001b[0m\u001b[1;36m2\u001b[0m\u001b[1;33m)\u001b[0m\u001b[1;33m,\u001b[0m \u001b[0mpadding\u001b[0m\u001b[1;33m=\u001b[0m\u001b[1;34m\"VALID\"\u001b[0m\u001b[1;33m)\u001b[0m\u001b[1;33m)\u001b[0m\u001b[1;33m\u001b[0m\u001b[1;33m\u001b[0m\u001b[0m\n\u001b[0;32m      7\u001b[0m \u001b[1;33m\u001b[0m\u001b[0m\n",
      "\u001b[1;31mTypeError\u001b[0m: __init__() missing 2 required positional arguments: 'filters' and 'kernel_size'"
     ]
    }
   ],
   "source": [
    "model = Sequential()\n",
    "\n",
    "model.add(Conv2D(filter=32, kernal_size=3, strides=(1,1),\n",
    "                input_shape=(28, 28, 1), padding=\"VALID\",\n",
    "                activation=\"relu\"))\n",
    "model.add(MaxPool2D(pool_size=(2,2), padding=\"VALID\"))\n",
    "\n",
    "model.add(Flatten())\n",
    "\n",
    "model.add(Dense(10, activation=\"softmax\"))\n",
    "\n",
    "model.compile(loss=\"sparse_categorical_crossentropy\",\n",
    "             optimizer=Adam(learning_rate=0.001),\n",
    "             metrics=[\"accuracy\"])\n",
    "\n",
    "model.summary()"
   ]
  },
  {
   "cell_type": "markdown",
   "id": "4afcebda",
   "metadata": {},
   "source": [
    "## Fashion MNIST"
   ]
  },
  {
   "cell_type": "code",
   "execution_count": 49,
   "id": "3f6ebe91",
   "metadata": {},
   "outputs": [],
   "source": [
    "from tensorflow.keras.datasets import fashion_mnist\n",
    "\n",
    "(X_train, y_train), (X_test, y_test) = fashion_mnist.load_data()"
   ]
  },
  {
   "cell_type": "markdown",
   "id": "527514b0",
   "metadata": {},
   "source": [
    "## 오답노트"
   ]
  },
  {
   "cell_type": "code",
   "execution_count": 60,
   "id": "854497cc",
   "metadata": {},
   "outputs": [
    {
     "name": "stdout",
     "output_type": "stream",
     "text": [
      "WARNING:tensorflow:From D:\\wow\\anaconda\\envs\\tf1\\lib\\site-packages\\tensorflow_core\\python\\ops\\resource_variable_ops.py:1630: calling BaseResourceVariable.__init__ (from tensorflow.python.ops.resource_variable_ops) with constraint is deprecated and will be removed in a future version.\n",
      "Instructions for updating:\n",
      "If using Keras pass *_constraint arguments to layers.\n",
      "Model: \"sequential_4\"\n",
      "_________________________________________________________________\n",
      "Layer (type)                 Output Shape              Param #   \n",
      "=================================================================\n",
      "conv2d (Conv2D)              (None, 26, 26, 32)        320       \n",
      "_________________________________________________________________\n",
      "max_pooling2d (MaxPooling2D) (None, 13, 13, 32)        0         \n",
      "_________________________________________________________________\n",
      "flatten (Flatten)            (None, 5408)              0         \n",
      "_________________________________________________________________\n",
      "dense (Dense)                (None, 10)                54090     \n",
      "=================================================================\n",
      "Total params: 54,410\n",
      "Trainable params: 54,410\n",
      "Non-trainable params: 0\n",
      "_________________________________________________________________\n"
     ]
    }
   ],
   "source": [
    "from tensorflow.keras.datasets import mnist\n",
    "\n",
    "(X_train, y_train), (X_test, y_test) = mnist.load_data()\n",
    "\n",
    "X_train = X_train/255\n",
    "X_test = X_test/255\n",
    "\n",
    "model = Sequential()\n",
    "\n",
    "model.add(Conv2D(filters=32, kernel_size=3, strides=(1,1),\n",
    "                input_shape=(28, 28, 1), padding=\"VALID\",\n",
    "                activation=\"relu\"))\n",
    "\n",
    "model.add(MaxPool2D(pool_size=(2,2), padding=\"VALID\"))\n",
    "\n",
    "model.add(Flatten())\n",
    "\n",
    "model.add(Dense(10, activation=\"softmax\"))\n",
    "\n",
    "model.compile(loss=\"sparse_categorical_crossentropy\",\n",
    "             optimizer=Adam(learning_rate=0.01),\n",
    "             metrics=[\"accuracy\"])\n",
    "\n",
    "model.summary()"
   ]
  },
  {
   "cell_type": "code",
   "execution_count": 61,
   "id": "6d5e2476",
   "metadata": {},
   "outputs": [
    {
     "name": "stdout",
     "output_type": "stream",
     "text": [
      "Train on 48000 samples, validate on 12000 samples\n",
      "Epoch 1/10\n",
      "48000/48000 [==============================] - 12s 244us/sample - loss: 0.1419 - acc: 0.9560 - val_loss: 0.0864 - val_acc: 0.9753\n",
      "Epoch 2/10\n",
      "48000/48000 [==============================] - 12s 242us/sample - loss: 0.0664 - acc: 0.9799 - val_loss: 0.0870 - val_acc: 0.9754\n",
      "Epoch 3/10\n",
      "48000/48000 [==============================] - 12s 242us/sample - loss: 0.0472 - acc: 0.9856 - val_loss: 0.0841 - val_acc: 0.9772\n",
      "Epoch 4/10\n",
      "48000/48000 [==============================] - 12s 240us/sample - loss: 0.0386 - acc: 0.9881 - val_loss: 0.0748 - val_acc: 0.9795\n",
      "Epoch 5/10\n",
      "48000/48000 [==============================] - 12s 243us/sample - loss: 0.0308 - acc: 0.9900 - val_loss: 0.1238 - val_acc: 0.9713\n",
      "Epoch 6/10\n",
      "48000/48000 [==============================] - 12s 242us/sample - loss: 0.0261 - acc: 0.9916 - val_loss: 0.0981 - val_acc: 0.9783\n",
      "Epoch 7/10\n",
      "48000/48000 [==============================] - 12s 240us/sample - loss: 0.0254 - acc: 0.9914 - val_loss: 0.1039 - val_acc: 0.9774\n",
      "Epoch 8/10\n",
      "48000/48000 [==============================] - 12s 241us/sample - loss: 0.0211 - acc: 0.9934 - val_loss: 0.1242 - val_acc: 0.9758\n",
      "Epoch 9/10\n",
      "48000/48000 [==============================] - 12s 242us/sample - loss: 0.0166 - acc: 0.9945 - val_loss: 0.1240 - val_acc: 0.9779\n",
      "Epoch 10/10\n",
      "48000/48000 [==============================] - 12s 243us/sample - loss: 0.0194 - acc: 0.9940 - val_loss: 0.1463 - val_acc: 0.9786\n"
     ]
    }
   ],
   "source": [
    "result = model.fit(X_train.reshape(-1, 28, 28, 1), y_train, epochs=10,\n",
    "         batch_size=50,\n",
    "         validation_split=0.2)"
   ]
  },
  {
   "cell_type": "code",
   "execution_count": 63,
   "id": "9b7c29e6",
   "metadata": {},
   "outputs": [],
   "source": [
    "ret_val = model.predict(X_test.reshape(-1, 28, 28, 1))"
   ]
  },
  {
   "cell_type": "code",
   "execution_count": 64,
   "id": "a437d588",
   "metadata": {},
   "outputs": [
    {
     "name": "stdout",
     "output_type": "stream",
     "text": [
      "(10000, 10)\n",
      "[[6.0720929e-15 2.0466442e-23 1.7094553e-15 ... 1.0000000e+00\n",
      "  6.0107046e-13 1.5244748e-15]\n",
      " [2.9257384e-16 7.6128125e-19 1.0000000e+00 ... 5.3345946e-31\n",
      "  8.1743332e-20 9.1916277e-21]\n",
      " [5.7981775e-12 9.9999666e-01 1.2597032e-10 ... 1.6678437e-07\n",
      "  5.9964663e-08 1.6557665e-10]\n",
      " ...\n",
      " [3.9191606e-33 9.1117142e-29 1.5866262e-28 ... 5.9600669e-19\n",
      "  2.7108944e-18 3.0072871e-18]\n",
      " [2.9535387e-15 6.5322368e-33 9.3166759e-26 ... 3.8796548e-17\n",
      "  1.7936573e-12 4.7306500e-21]\n",
      " [4.2793287e-23 1.7404028e-35 2.5602195e-17 ... 2.8739868e-34\n",
      "  1.0110322e-21 9.8946823e-27]]\n"
     ]
    }
   ],
   "source": [
    "print(ret_val.shape)\n",
    "print(ret_val)"
   ]
  },
  {
   "cell_type": "code",
   "execution_count": 65,
   "id": "e7e418dd",
   "metadata": {},
   "outputs": [
    {
     "ename": "NameError",
     "evalue": "name 'index_label_pred_list' is not defined",
     "output_type": "error",
     "traceback": [
      "\u001b[1;31m---------------------------------------------------------------------------\u001b[0m",
      "\u001b[1;31mNameError\u001b[0m                                 Traceback (most recent call last)",
      "\u001b[1;32mC:\\Temp\\ipykernel_14520\\2922977246.py\u001b[0m in \u001b[0;36m<module>\u001b[1;34m\u001b[0m\n\u001b[1;32m----> 1\u001b[1;33m \u001b[0mfalse_data_index\u001b[0m \u001b[1;33m=\u001b[0m \u001b[0mnp\u001b[0m\u001b[1;33m.\u001b[0m\u001b[0mrandom\u001b[0m\u001b[1;33m(\u001b[0m\u001b[0mlen\u001b[0m\u001b[1;33m(\u001b[0m\u001b[0mindex_label_pred_list\u001b[0m\u001b[1;33m)\u001b[0m\u001b[1;33m)\u001b[0m\u001b[1;33m\u001b[0m\u001b[1;33m\u001b[0m\u001b[0m\n\u001b[0m",
      "\u001b[1;31mNameError\u001b[0m: name 'index_label_pred_list' is not defined"
     ]
    }
   ],
   "source": [
    "false_data_index = np.random(len(index_label_pred_list))"
   ]
  },
  {
   "cell_type": "markdown",
   "id": "78064c39",
   "metadata": {},
   "source": [
    "## Simple CNN\n",
    "\n",
    "- C-> P -> C-> P ->F ->D ->D"
   ]
  },
  {
   "cell_type": "code",
   "execution_count": 66,
   "id": "f4493067",
   "metadata": {},
   "outputs": [],
   "source": [
    "from tensorflow.keras.datasets import mnist\n",
    "\n",
    "(X_train, y_train), (X_test, y_test) = mnist.load_data()\n",
    "\n",
    "X_train = X_train/255\n",
    "X_test = X_test/255"
   ]
  },
  {
   "cell_type": "code",
   "execution_count": 68,
   "id": "abccef54",
   "metadata": {},
   "outputs": [
    {
     "name": "stdout",
     "output_type": "stream",
     "text": [
      "Model: \"sequential_5\"\n",
      "_________________________________________________________________\n",
      "Layer (type)                 Output Shape              Param #   \n",
      "=================================================================\n",
      "conv2d_2 (Conv2D)            (None, 28, 28, 32)        320       \n",
      "_________________________________________________________________\n",
      "max_pooling2d_1 (MaxPooling2 (None, 14, 14, 32)        0         \n",
      "_________________________________________________________________\n",
      "conv2d_3 (Conv2D)            (None, 14, 14, 32)        9248      \n",
      "_________________________________________________________________\n",
      "max_pooling2d_2 (MaxPooling2 (None, 7, 7, 32)          0         \n",
      "=================================================================\n",
      "Total params: 9,568\n",
      "Trainable params: 9,568\n",
      "Non-trainable params: 0\n",
      "_________________________________________________________________\n"
     ]
    }
   ],
   "source": [
    "model = Sequential()\n",
    "\n",
    "## 1st Convolution Layer\n",
    "model.add(Conv2D(filters=32, kernel_size=3, padding=\"SAME\",\n",
    "                input_shape=(28,28,1), activation=\"relu\"))\n",
    "model.add(MaxPool2D(padding=\"SAME\"))\n",
    "\n",
    "## 2nd Convolution Layer\n",
    "model.add(Conv2D(filters=32, kernel_size=3, padding=\"SAME\",\n",
    "                input_shape=(28,28,1), activation=\"relu\"))\n",
    "model.add(MaxPool2D(padding=\"SAME\"))\n",
    "\n",
    "model.summary()"
   ]
  },
  {
   "cell_type": "code",
   "execution_count": 69,
   "id": "36fed3b8",
   "metadata": {},
   "outputs": [
    {
     "name": "stdout",
     "output_type": "stream",
     "text": [
      "Model: \"sequential_5\"\n",
      "_________________________________________________________________\n",
      "Layer (type)                 Output Shape              Param #   \n",
      "=================================================================\n",
      "conv2d_2 (Conv2D)            (None, 28, 28, 32)        320       \n",
      "_________________________________________________________________\n",
      "max_pooling2d_1 (MaxPooling2 (None, 14, 14, 32)        0         \n",
      "_________________________________________________________________\n",
      "conv2d_3 (Conv2D)            (None, 14, 14, 32)        9248      \n",
      "_________________________________________________________________\n",
      "max_pooling2d_2 (MaxPooling2 (None, 7, 7, 32)          0         \n",
      "_________________________________________________________________\n",
      "flatten_1 (Flatten)          (None, 1568)              0         \n",
      "_________________________________________________________________\n",
      "dense_1 (Dense)              (None, 32)                50208     \n",
      "_________________________________________________________________\n",
      "dense_2 (Dense)              (None, 32)                1056      \n",
      "_________________________________________________________________\n",
      "dense_3 (Dense)              (None, 10)                330       \n",
      "=================================================================\n",
      "Total params: 61,162\n",
      "Trainable params: 61,162\n",
      "Non-trainable params: 0\n",
      "_________________________________________________________________\n"
     ]
    }
   ],
   "source": [
    "model.add(Flatten())\n",
    "\n",
    "model.add(Dense(32, activation=\"relu\"))\n",
    "model.add(Dense(32, activation=\"relu\"))\n",
    "\n",
    "model.add(Dense(10, activation=\"softmax\"))\n",
    "\n",
    "model.summary()"
   ]
  },
  {
   "cell_type": "code",
   "execution_count": 70,
   "id": "6dc09a5f",
   "metadata": {},
   "outputs": [
    {
     "ename": "ValueError",
     "evalue": "Error when checking input: expected conv2d_2_input to have 4 dimensions, but got array with shape (60000, 28, 28)",
     "output_type": "error",
     "traceback": [
      "\u001b[1;31m---------------------------------------------------------------------------\u001b[0m",
      "\u001b[1;31mValueError\u001b[0m                                Traceback (most recent call last)",
      "\u001b[1;32mC:\\Temp\\ipykernel_14520\\3854150283.py\u001b[0m in \u001b[0;36m<module>\u001b[1;34m\u001b[0m\n\u001b[0;32m      4\u001b[0m \u001b[1;33m\u001b[0m\u001b[0m\n\u001b[0;32m      5\u001b[0m model.fit(X_train, y_train, epochs=20, validation_split=0.2,\n\u001b[1;32m----> 6\u001b[1;33m          batch_size=1000)\n\u001b[0m",
      "\u001b[1;32mD:\\wow\\anaconda\\envs\\tf1\\lib\\site-packages\\tensorflow_core\\python\\keras\\engine\\training.py\u001b[0m in \u001b[0;36mfit\u001b[1;34m(self, x, y, batch_size, epochs, verbose, callbacks, validation_split, validation_data, shuffle, class_weight, sample_weight, initial_epoch, steps_per_epoch, validation_steps, validation_freq, max_queue_size, workers, use_multiprocessing, **kwargs)\u001b[0m\n\u001b[0;32m    725\u001b[0m         \u001b[0mmax_queue_size\u001b[0m\u001b[1;33m=\u001b[0m\u001b[0mmax_queue_size\u001b[0m\u001b[1;33m,\u001b[0m\u001b[1;33m\u001b[0m\u001b[1;33m\u001b[0m\u001b[0m\n\u001b[0;32m    726\u001b[0m         \u001b[0mworkers\u001b[0m\u001b[1;33m=\u001b[0m\u001b[0mworkers\u001b[0m\u001b[1;33m,\u001b[0m\u001b[1;33m\u001b[0m\u001b[1;33m\u001b[0m\u001b[0m\n\u001b[1;32m--> 727\u001b[1;33m         use_multiprocessing=use_multiprocessing)\n\u001b[0m\u001b[0;32m    728\u001b[0m \u001b[1;33m\u001b[0m\u001b[0m\n\u001b[0;32m    729\u001b[0m   def evaluate(self,\n",
      "\u001b[1;32mD:\\wow\\anaconda\\envs\\tf1\\lib\\site-packages\\tensorflow_core\\python\\keras\\engine\\training_arrays.py\u001b[0m in \u001b[0;36mfit\u001b[1;34m(self, model, x, y, batch_size, epochs, verbose, callbacks, validation_split, validation_data, shuffle, class_weight, sample_weight, initial_epoch, steps_per_epoch, validation_steps, validation_freq, **kwargs)\u001b[0m\n\u001b[0;32m    641\u001b[0m         \u001b[0msteps\u001b[0m\u001b[1;33m=\u001b[0m\u001b[0msteps_per_epoch\u001b[0m\u001b[1;33m,\u001b[0m\u001b[1;33m\u001b[0m\u001b[1;33m\u001b[0m\u001b[0m\n\u001b[0;32m    642\u001b[0m         \u001b[0mvalidation_split\u001b[0m\u001b[1;33m=\u001b[0m\u001b[0mvalidation_split\u001b[0m\u001b[1;33m,\u001b[0m\u001b[1;33m\u001b[0m\u001b[1;33m\u001b[0m\u001b[0m\n\u001b[1;32m--> 643\u001b[1;33m         shuffle=shuffle)\n\u001b[0m\u001b[0;32m    644\u001b[0m \u001b[1;33m\u001b[0m\u001b[0m\n\u001b[0;32m    645\u001b[0m     \u001b[1;32mif\u001b[0m \u001b[0mvalidation_data\u001b[0m\u001b[1;33m:\u001b[0m\u001b[1;33m\u001b[0m\u001b[1;33m\u001b[0m\u001b[0m\n",
      "\u001b[1;32mD:\\wow\\anaconda\\envs\\tf1\\lib\\site-packages\\tensorflow_core\\python\\keras\\engine\\training.py\u001b[0m in \u001b[0;36m_standardize_user_data\u001b[1;34m(self, x, y, sample_weight, class_weight, batch_size, check_steps, steps_name, steps, validation_split, shuffle, extract_tensors_from_dataset)\u001b[0m\n\u001b[0;32m   2469\u001b[0m           \u001b[0mfeed_input_shapes\u001b[0m\u001b[1;33m,\u001b[0m\u001b[1;33m\u001b[0m\u001b[1;33m\u001b[0m\u001b[0m\n\u001b[0;32m   2470\u001b[0m           \u001b[0mcheck_batch_axis\u001b[0m\u001b[1;33m=\u001b[0m\u001b[1;32mFalse\u001b[0m\u001b[1;33m,\u001b[0m  \u001b[1;31m# Don't enforce the batch size.\u001b[0m\u001b[1;33m\u001b[0m\u001b[1;33m\u001b[0m\u001b[0m\n\u001b[1;32m-> 2471\u001b[1;33m           exception_prefix='input')\n\u001b[0m\u001b[0;32m   2472\u001b[0m \u001b[1;33m\u001b[0m\u001b[0m\n\u001b[0;32m   2473\u001b[0m     \u001b[1;31m# Get typespecs for the input data and sanitize it if necessary.\u001b[0m\u001b[1;33m\u001b[0m\u001b[1;33m\u001b[0m\u001b[1;33m\u001b[0m\u001b[0m\n",
      "\u001b[1;32mD:\\wow\\anaconda\\envs\\tf1\\lib\\site-packages\\tensorflow_core\\python\\keras\\engine\\training_utils.py\u001b[0m in \u001b[0;36mstandardize_input_data\u001b[1;34m(data, names, shapes, check_batch_axis, exception_prefix)\u001b[0m\n\u001b[0;32m    561\u001b[0m                            \u001b[1;34m': expected '\u001b[0m \u001b[1;33m+\u001b[0m \u001b[0mnames\u001b[0m\u001b[1;33m[\u001b[0m\u001b[0mi\u001b[0m\u001b[1;33m]\u001b[0m \u001b[1;33m+\u001b[0m \u001b[1;34m' to have '\u001b[0m \u001b[1;33m+\u001b[0m\u001b[1;33m\u001b[0m\u001b[1;33m\u001b[0m\u001b[0m\n\u001b[0;32m    562\u001b[0m                            \u001b[0mstr\u001b[0m\u001b[1;33m(\u001b[0m\u001b[0mlen\u001b[0m\u001b[1;33m(\u001b[0m\u001b[0mshape\u001b[0m\u001b[1;33m)\u001b[0m\u001b[1;33m)\u001b[0m \u001b[1;33m+\u001b[0m \u001b[1;34m' dimensions, but got array '\u001b[0m\u001b[1;33m\u001b[0m\u001b[1;33m\u001b[0m\u001b[0m\n\u001b[1;32m--> 563\u001b[1;33m                            'with shape ' + str(data_shape))\n\u001b[0m\u001b[0;32m    564\u001b[0m         \u001b[1;32mif\u001b[0m \u001b[1;32mnot\u001b[0m \u001b[0mcheck_batch_axis\u001b[0m\u001b[1;33m:\u001b[0m\u001b[1;33m\u001b[0m\u001b[1;33m\u001b[0m\u001b[0m\n\u001b[0;32m    565\u001b[0m           \u001b[0mdata_shape\u001b[0m \u001b[1;33m=\u001b[0m \u001b[0mdata_shape\u001b[0m\u001b[1;33m[\u001b[0m\u001b[1;36m1\u001b[0m\u001b[1;33m:\u001b[0m\u001b[1;33m]\u001b[0m\u001b[1;33m\u001b[0m\u001b[1;33m\u001b[0m\u001b[0m\n",
      "\u001b[1;31mValueError\u001b[0m: Error when checking input: expected conv2d_2_input to have 4 dimensions, but got array with shape (60000, 28, 28)"
     ]
    }
   ],
   "source": [
    "model.compile(loss=\"sparse_categorical_crossentropy\",\n",
    "             optimizer = Adam(learning_rate=0.01),\n",
    "             metrics=[\"accuracy\"])\n",
    "\n",
    "model.fit(X_train, y_train, epochs=20, validation_split=0.2,\n",
    "         batch_size=1000)"
   ]
  },
  {
   "cell_type": "code",
   "execution_count": 71,
   "id": "29e68ad7",
   "metadata": {},
   "outputs": [
    {
     "ename": "ValueError",
     "evalue": "Error when checking input: expected conv2d_2_input to have 4 dimensions, but got array with shape (10000, 28, 28)",
     "output_type": "error",
     "traceback": [
      "\u001b[1;31m---------------------------------------------------------------------------\u001b[0m",
      "\u001b[1;31mValueError\u001b[0m                                Traceback (most recent call last)",
      "\u001b[1;32mC:\\Temp\\ipykernel_14520\\3899891647.py\u001b[0m in \u001b[0;36m<module>\u001b[1;34m\u001b[0m\n\u001b[1;32m----> 1\u001b[1;33m \u001b[0mmodel\u001b[0m\u001b[1;33m.\u001b[0m\u001b[0mevaluate\u001b[0m\u001b[1;33m(\u001b[0m\u001b[0mX_test\u001b[0m\u001b[1;33m,\u001b[0m \u001b[0my_test\u001b[0m\u001b[1;33m)\u001b[0m\u001b[1;33m\u001b[0m\u001b[1;33m\u001b[0m\u001b[0m\n\u001b[0m",
      "\u001b[1;32mD:\\wow\\anaconda\\envs\\tf1\\lib\\site-packages\\tensorflow_core\\python\\keras\\engine\\training.py\u001b[0m in \u001b[0;36mevaluate\u001b[1;34m(self, x, y, batch_size, verbose, sample_weight, steps, callbacks, max_queue_size, workers, use_multiprocessing)\u001b[0m\n\u001b[0;32m    830\u001b[0m         \u001b[0mmax_queue_size\u001b[0m\u001b[1;33m=\u001b[0m\u001b[0mmax_queue_size\u001b[0m\u001b[1;33m,\u001b[0m\u001b[1;33m\u001b[0m\u001b[1;33m\u001b[0m\u001b[0m\n\u001b[0;32m    831\u001b[0m         \u001b[0mworkers\u001b[0m\u001b[1;33m=\u001b[0m\u001b[0mworkers\u001b[0m\u001b[1;33m,\u001b[0m\u001b[1;33m\u001b[0m\u001b[1;33m\u001b[0m\u001b[0m\n\u001b[1;32m--> 832\u001b[1;33m         use_multiprocessing=use_multiprocessing)\n\u001b[0m\u001b[0;32m    833\u001b[0m \u001b[1;33m\u001b[0m\u001b[0m\n\u001b[0;32m    834\u001b[0m   def predict(self,\n",
      "\u001b[1;32mD:\\wow\\anaconda\\envs\\tf1\\lib\\site-packages\\tensorflow_core\\python\\keras\\engine\\training_arrays.py\u001b[0m in \u001b[0;36mevaluate\u001b[1;34m(self, model, x, y, batch_size, verbose, sample_weight, steps, callbacks, **kwargs)\u001b[0m\n\u001b[0;32m    693\u001b[0m         \u001b[0mcheck_steps\u001b[0m\u001b[1;33m=\u001b[0m\u001b[1;32mTrue\u001b[0m\u001b[1;33m,\u001b[0m\u001b[1;33m\u001b[0m\u001b[1;33m\u001b[0m\u001b[0m\n\u001b[0;32m    694\u001b[0m         \u001b[0msteps_name\u001b[0m\u001b[1;33m=\u001b[0m\u001b[1;34m'steps'\u001b[0m\u001b[1;33m,\u001b[0m\u001b[1;33m\u001b[0m\u001b[1;33m\u001b[0m\u001b[0m\n\u001b[1;32m--> 695\u001b[1;33m         steps=steps)\n\u001b[0m\u001b[0;32m    696\u001b[0m     return test_loop(\n\u001b[0;32m    697\u001b[0m         \u001b[0mmodel\u001b[0m\u001b[1;33m,\u001b[0m\u001b[1;33m\u001b[0m\u001b[1;33m\u001b[0m\u001b[0m\n",
      "\u001b[1;32mD:\\wow\\anaconda\\envs\\tf1\\lib\\site-packages\\tensorflow_core\\python\\keras\\engine\\training.py\u001b[0m in \u001b[0;36m_standardize_user_data\u001b[1;34m(self, x, y, sample_weight, class_weight, batch_size, check_steps, steps_name, steps, validation_split, shuffle, extract_tensors_from_dataset)\u001b[0m\n\u001b[0;32m   2469\u001b[0m           \u001b[0mfeed_input_shapes\u001b[0m\u001b[1;33m,\u001b[0m\u001b[1;33m\u001b[0m\u001b[1;33m\u001b[0m\u001b[0m\n\u001b[0;32m   2470\u001b[0m           \u001b[0mcheck_batch_axis\u001b[0m\u001b[1;33m=\u001b[0m\u001b[1;32mFalse\u001b[0m\u001b[1;33m,\u001b[0m  \u001b[1;31m# Don't enforce the batch size.\u001b[0m\u001b[1;33m\u001b[0m\u001b[1;33m\u001b[0m\u001b[0m\n\u001b[1;32m-> 2471\u001b[1;33m           exception_prefix='input')\n\u001b[0m\u001b[0;32m   2472\u001b[0m \u001b[1;33m\u001b[0m\u001b[0m\n\u001b[0;32m   2473\u001b[0m     \u001b[1;31m# Get typespecs for the input data and sanitize it if necessary.\u001b[0m\u001b[1;33m\u001b[0m\u001b[1;33m\u001b[0m\u001b[1;33m\u001b[0m\u001b[0m\n",
      "\u001b[1;32mD:\\wow\\anaconda\\envs\\tf1\\lib\\site-packages\\tensorflow_core\\python\\keras\\engine\\training_utils.py\u001b[0m in \u001b[0;36mstandardize_input_data\u001b[1;34m(data, names, shapes, check_batch_axis, exception_prefix)\u001b[0m\n\u001b[0;32m    561\u001b[0m                            \u001b[1;34m': expected '\u001b[0m \u001b[1;33m+\u001b[0m \u001b[0mnames\u001b[0m\u001b[1;33m[\u001b[0m\u001b[0mi\u001b[0m\u001b[1;33m]\u001b[0m \u001b[1;33m+\u001b[0m \u001b[1;34m' to have '\u001b[0m \u001b[1;33m+\u001b[0m\u001b[1;33m\u001b[0m\u001b[1;33m\u001b[0m\u001b[0m\n\u001b[0;32m    562\u001b[0m                            \u001b[0mstr\u001b[0m\u001b[1;33m(\u001b[0m\u001b[0mlen\u001b[0m\u001b[1;33m(\u001b[0m\u001b[0mshape\u001b[0m\u001b[1;33m)\u001b[0m\u001b[1;33m)\u001b[0m \u001b[1;33m+\u001b[0m \u001b[1;34m' dimensions, but got array '\u001b[0m\u001b[1;33m\u001b[0m\u001b[1;33m\u001b[0m\u001b[0m\n\u001b[1;32m--> 563\u001b[1;33m                            'with shape ' + str(data_shape))\n\u001b[0m\u001b[0;32m    564\u001b[0m         \u001b[1;32mif\u001b[0m \u001b[1;32mnot\u001b[0m \u001b[0mcheck_batch_axis\u001b[0m\u001b[1;33m:\u001b[0m\u001b[1;33m\u001b[0m\u001b[1;33m\u001b[0m\u001b[0m\n\u001b[0;32m    565\u001b[0m           \u001b[0mdata_shape\u001b[0m \u001b[1;33m=\u001b[0m \u001b[0mdata_shape\u001b[0m\u001b[1;33m[\u001b[0m\u001b[1;36m1\u001b[0m\u001b[1;33m:\u001b[0m\u001b[1;33m]\u001b[0m\u001b[1;33m\u001b[0m\u001b[1;33m\u001b[0m\u001b[0m\n",
      "\u001b[1;31mValueError\u001b[0m: Error when checking input: expected conv2d_2_input to have 4 dimensions, but got array with shape (10000, 28, 28)"
     ]
    }
   ],
   "source": [
    "model.evaluate(X_test, y_test)"
   ]
  },
  {
   "cell_type": "markdown",
   "id": "ff70ea34",
   "metadata": {},
   "source": [
    "## Deep CNN"
   ]
  },
  {
   "cell_type": "markdown",
   "id": "324e2da7",
   "metadata": {},
   "source": [
    "# 실습"
   ]
  },
  {
   "cell_type": "code",
   "execution_count": 72,
   "id": "884ee662",
   "metadata": {},
   "outputs": [
    {
     "data": {
      "text/plain": [
       "'\\n1. fashion mnist 사용\\n2. cpcpcpfd\\n3. 최소 90프로 이상의 성능\\n'"
      ]
     },
     "execution_count": 72,
     "metadata": {},
     "output_type": "execute_result"
    }
   ],
   "source": [
    "\"\"\"\n",
    "1. fashion mnist 사용\n",
    "2. c p c p c p f d\n",
    "3. 최소 90프로 이상의 성능\n",
    "\"\"\""
   ]
  },
  {
   "cell_type": "code",
   "execution_count": 73,
   "id": "026dec5c",
   "metadata": {},
   "outputs": [
    {
     "data": {
      "text/plain": [
       "'\\n1. fashion mnist 사용\\n2. c c p c c p f d\\n3. 최소 90프로 이상의 성능\\n'"
      ]
     },
     "execution_count": 73,
     "metadata": {},
     "output_type": "execute_result"
    }
   ],
   "source": [
    "\"\"\"\n",
    "1. fashion mnist 사용\n",
    "2. c c p c c p f d\n",
    "3. 최소 90프로 이상의 성능\n",
    "\"\"\""
   ]
  },
  {
   "cell_type": "code",
   "execution_count": 74,
   "id": "9b6803be",
   "metadata": {},
   "outputs": [],
   "source": [
    "from tensorflow.keras.datasets import cifar10"
   ]
  },
  {
   "cell_type": "code",
   "execution_count": 75,
   "id": "deb4233b",
   "metadata": {},
   "outputs": [
    {
     "name": "stdout",
     "output_type": "stream",
     "text": [
      "Downloading data from https://www.cs.toronto.edu/~kriz/cifar-10-python.tar.gz\n",
      "170500096/170498071 [==============================] - 185s 1us/step\n"
     ]
    }
   ],
   "source": [
    "(X_train, y_train), (X_test, y_test) = cifar10.load_data()"
   ]
  },
  {
   "cell_type": "code",
   "execution_count": 99,
   "id": "2e5d6a0f",
   "metadata": {},
   "outputs": [
    {
     "name": "stdout",
     "output_type": "stream",
     "text": [
      "(50000, 32, 32, 3) (10000, 32, 32, 3)\n"
     ]
    }
   ],
   "source": [
    "print(X_train.shape, X_test.shape)"
   ]
  },
  {
   "cell_type": "code",
   "execution_count": 100,
   "id": "098f1cc5",
   "metadata": {
    "scrolled": true
   },
   "outputs": [
    {
     "name": "stdout",
     "output_type": "stream",
     "text": [
      "(50000, 1) (10000, 1)\n"
     ]
    }
   ],
   "source": [
    "print(y_train.shape, y_test.shape)"
   ]
  },
  {
   "cell_type": "code",
   "execution_count": 101,
   "id": "5f237d0c",
   "metadata": {},
   "outputs": [],
   "source": [
    "X_train = np.reshape(X_train, (X_train.shape[0], 32, 32, 3))"
   ]
  },
  {
   "cell_type": "code",
   "execution_count": 102,
   "id": "154c88cd",
   "metadata": {},
   "outputs": [],
   "source": [
    "X_train = X_train/255\n",
    "X_test = X_test/255"
   ]
  },
  {
   "cell_type": "code",
   "execution_count": 103,
   "id": "55b13e09",
   "metadata": {},
   "outputs": [
    {
     "data": {
      "image/png": "[encoded data removed]",
      "text/plain": [
       "<Figure size 600x600 with 25 Axes>"
      ]
     },
     "metadata": {},
     "output_type": "display_data"
    }
   ],
   "source": [
    "plt.figure(figsize=(6,6))\n",
    "\n",
    "for i in range(25):\n",
    "    plt.subplot(5,5,i+1)\n",
    "    plt.imshow(X_train[i], cmap=\"gray\")\n",
    "    plt.xticks([])\n",
    "    plt.yticks([])"
   ]
  },
  {
   "cell_type": "code",
   "execution_count": 79,
   "id": "3d7c80c2",
   "metadata": {},
   "outputs": [
    {
     "ename": "SyntaxError",
     "evalue": "EOF while scanning triple-quoted string literal (2816954255.py, line 5)",
     "output_type": "error",
     "traceback": [
      "\u001b[1;36m  File \u001b[1;32m\"C:\\Temp\\ipykernel_14520\\2816954255.py\"\u001b[1;36m, line \u001b[1;32m5\u001b[0m\n\u001b[1;33m    model.save(\".h5\")\u001b[0m\n\u001b[1;37m                     \n^\u001b[0m\n\u001b[1;31mSyntaxError\u001b[0m\u001b[1;31m:\u001b[0m EOF while scanning triple-quoted string literal\n"
     ]
    }
   ],
   "source": [
    "\"\"\"\n",
    "1. cpcpcp, ccpccpcpcp 등 다양한 아키텍처로 구현해서 과적합을 최소로 하는 80프로 이상의 정확도를 가진\n",
    "모델을 만든 후 저장\n",
    "\n",
    "model.save(\".h5\")"
   ]
  },
  {
   "cell_type": "code",
   "execution_count": 113,
   "id": "f6a69b53",
   "metadata": {},
   "outputs": [
    {
     "name": "stdout",
     "output_type": "stream",
     "text": [
      "Model: \"sequential_15\"\n",
      "_________________________________________________________________\n",
      "Layer (type)                 Output Shape              Param #   \n",
      "=================================================================\n",
      "conv2d_29 (Conv2D)           (None, 32, 32, 32)        896       \n",
      "_________________________________________________________________\n",
      "max_pooling2d_27 (MaxPooling (None, 16, 16, 32)        0         \n",
      "_________________________________________________________________\n",
      "conv2d_30 (Conv2D)           (None, 16, 16, 32)        9248      \n",
      "_________________________________________________________________\n",
      "max_pooling2d_28 (MaxPooling (None, 8, 8, 32)          0         \n",
      "_________________________________________________________________\n",
      "conv2d_31 (Conv2D)           (None, 8, 8, 32)          9248      \n",
      "_________________________________________________________________\n",
      "max_pooling2d_29 (MaxPooling (None, 4, 4, 32)          0         \n",
      "_________________________________________________________________\n",
      "flatten_3 (Flatten)          (None, 512)               0         \n",
      "_________________________________________________________________\n",
      "dense_5 (Dense)              (None, 128)               65664     \n",
      "_________________________________________________________________\n",
      "dense_6 (Dense)              (None, 10)                1290      \n",
      "=================================================================\n",
      "Total params: 86,346\n",
      "Trainable params: 86,346\n",
      "Non-trainable params: 0\n",
      "_________________________________________________________________\n"
     ]
    }
   ],
   "source": [
    "model = Sequential()\n",
    "\n",
    "## 1st Convolution Layer\n",
    "model.add(Conv2D(filters=32, kernel_size=3, padding=\"SAME\",\n",
    "                input_shape=(32, 32, 3), activation=\"relu\"))\n",
    "model.add(MaxPool2D(padding=\"SAME\"))\n",
    "\n",
    "## 2nd Convolution Layer\n",
    "model.add(Conv2D(filters=32, kernel_size=3, padding=\"SAME\",\n",
    "                activation=\"relu\"))\n",
    "model.add(MaxPool2D(padding=\"SAME\"))\n",
    "\n",
    "## 3rd Convolution Layer\n",
    "model.add(Conv2D(filters=32, kernel_size=3, padding=\"SAME\",\n",
    "                activation=\"relu\"))\n",
    "model.add(MaxPool2D(padding=\"SAME\"))\n",
    "\n",
    "## Flatten the output from 3D to 1D\n",
    "model.add(Flatten())\n",
    "\n",
    "## Fully connected layer\n",
    "model.add(Dense(128, activation=\"relu\"))\n",
    "\n",
    "## Output layer\n",
    "model.add(Dense(10, activation=\"softmax\"))\n",
    "\n",
    "model.summary()"
   ]
  },
  {
   "cell_type": "code",
   "execution_count": 114,
   "id": "7f8dacc0",
   "metadata": {
    "scrolled": false
   },
   "outputs": [],
   "source": [
    "model.compile(loss=\"sparse_categorical_crossentropy\",\n",
    "              optimizer=Adam(learning_rate=0.01),\n",
    "              metrics=[\"accuracy\"])"
   ]
  },
  {
   "cell_type": "code",
   "execution_count": 115,
   "id": "064940f3",
   "metadata": {},
   "outputs": [
    {
     "name": "stdout",
     "output_type": "stream",
     "text": [
      "Train on 40000 samples, validate on 10000 samples\n",
      "Epoch 1/20\n",
      "40000/40000 [==============================] - 22s 542us/sample - loss: 2.3032 - acc: 0.1002 - val_loss: 2.3029 - val_acc: 0.1025\n",
      "Epoch 2/20\n",
      "40000/40000 [==============================] - 23s 576us/sample - loss: 2.3029 - acc: 0.0984 - val_loss: 2.3027 - val_acc: 0.0952\n",
      "Epoch 3/20\n",
      "40000/40000 [==============================] - 23s 568us/sample - loss: 2.3028 - acc: 0.0993 - val_loss: 2.3029 - val_acc: 0.0977\n",
      "Epoch 4/20\n",
      "40000/40000 [==============================] - 23s 568us/sample - loss: 2.3029 - acc: 0.0994 - val_loss: 2.3030 - val_acc: 0.0980\n",
      "Epoch 5/20\n",
      "40000/40000 [==============================] - 23s 573us/sample - loss: 2.3031 - acc: 0.0979 - val_loss: 2.3028 - val_acc: 0.1014\n",
      "Epoch 6/20\n",
      "40000/40000 [==============================] - 23s 586us/sample - loss: 2.3029 - acc: 0.0977 - val_loss: 2.3028 - val_acc: 0.0997\n",
      "Epoch 7/20\n",
      "40000/40000 [==============================] - 24s 592us/sample - loss: 2.3029 - acc: 0.0992 - val_loss: 2.3026 - val_acc: 0.1022\n",
      "Epoch 8/20\n",
      "40000/40000 [==============================] - 24s 588us/sample - loss: 2.3030 - acc: 0.0987 - val_loss: 2.3028 - val_acc: 0.0977\n",
      "Epoch 9/20\n",
      "40000/40000 [==============================] - 24s 589us/sample - loss: 2.3029 - acc: 0.0987 - val_loss: 2.3028 - val_acc: 0.0977\n",
      "Epoch 10/20\n",
      "40000/40000 [==============================] - 24s 595us/sample - loss: 2.3029 - acc: 0.0994 - val_loss: 2.3028 - val_acc: 0.1014\n",
      "Epoch 11/20\n",
      "40000/40000 [==============================] - 24s 594us/sample - loss: 2.3028 - acc: 0.1013 - val_loss: 2.3029 - val_acc: 0.0980\n",
      "Epoch 12/20\n",
      "40000/40000 [==============================] - 24s 598us/sample - loss: 2.3028 - acc: 0.1007 - val_loss: 2.3028 - val_acc: 0.0980\n",
      "Epoch 13/20\n",
      "40000/40000 [==============================] - 24s 603us/sample - loss: 2.3028 - acc: 0.1000 - val_loss: 2.3027 - val_acc: 0.0952\n",
      "Epoch 14/20\n",
      "40000/40000 [==============================] - 24s 599us/sample - loss: 2.3028 - acc: 0.0991 - val_loss: 2.3029 - val_acc: 0.0952\n",
      "Epoch 15/20\n",
      "40000/40000 [==============================] - 25s 615us/sample - loss: 2.3029 - acc: 0.0981 - val_loss: 2.3030 - val_acc: 0.1014\n",
      "Epoch 16/20\n",
      "40000/40000 [==============================] - 24s 605us/sample - loss: 2.3028 - acc: 0.0995 - val_loss: 2.3027 - val_acc: 0.1014\n",
      "Epoch 17/20\n",
      "40000/40000 [==============================] - 24s 604us/sample - loss: 2.3029 - acc: 0.0969 - val_loss: 2.3027 - val_acc: 0.1003\n",
      "Epoch 18/20\n",
      "40000/40000 [==============================] - 24s 604us/sample - loss: 2.3028 - acc: 0.0990 - val_loss: 2.3028 - val_acc: 0.1003\n",
      "Epoch 19/20\n",
      "40000/40000 [==============================] - 24s 606us/sample - loss: 2.3029 - acc: 0.0984 - val_loss: 2.3028 - val_acc: 0.1022\n",
      "Epoch 20/20\n",
      "40000/40000 [==============================] - 24s 610us/sample - loss: 2.3029 - acc: 0.0994 - val_loss: 2.3030 - val_acc: 0.0977\n"
     ]
    },
    {
     "data": {
      "text/plain": [
       "<tensorflow.python.keras.callbacks.History at 0x1c08081f9c8>"
      ]
     },
     "execution_count": 115,
     "metadata": {},
     "output_type": "execute_result"
    }
   ],
   "source": [
    "model.fit(X_train, y_train, epochs=20, validation_split=0.2, batch_size=1000)\n"
   ]
  },
  {
   "cell_type": "code",
   "execution_count": null,
   "id": "28a72ffc",
   "metadata": {},
   "outputs": [],
   "source": []
  }
 ],
 "metadata": {
  "kernelspec": {
   "display_name": "Python 3 (ipykernel)",
   "language": "python",
   "name": "python3"
  },
  "language_info": {
   "codemirror_mode": {
    "name": "ipython",
    "version": 3
   },
   "file_extension": ".py",
   "mimetype": "text/x-python",
   "name": "python",
   "nbconvert_exporter": "python",
   "pygments_lexer": "ipython3",
   "version": "3.7.13"
  }
 },
 "nbformat": 4,
 "nbformat_minor": 5
}
